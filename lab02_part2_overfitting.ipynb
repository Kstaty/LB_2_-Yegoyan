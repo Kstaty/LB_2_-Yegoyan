{
 "cells": [
  {
   "cell_type": "markdown",
   "metadata": {
    "colab_type": "text",
    "id": "NFmOh482SyEF"
   },
   "source": [
    "## Lab 2\n",
    "### Part 2: Dealing with overfitting"
   ]
  },
  {
   "cell_type": "markdown",
   "metadata": {
    "colab_type": "text",
    "id": "AjzAuO3oSvsI"
   },
   "source": [
    "Today we work with [Fashion-MNIST dataset](https://github.com/zalandoresearch/fashion-mnist) (*hint: it is available in `torchvision`*).\n",
    "\n",
    "Your goal for today:\n",
    "1. Train a FC (fully-connected) network that achieves >= 0.885 test accuracy.\n",
    "2. Cause considerable overfitting by modifying the network (e.g. increasing the number of network parameters and/or layers) and demonstrate in in the appropriate way (e.g. plot loss and accurasy on train and validation set w.r.t. network complexity).\n",
    "3. Try to deal with overfitting (at least partially) by using regularization techniques (Dropout/Batchnorm/...) and demonstrate the results.\n",
    "\n",
    "__Please, write a small report describing your ideas, tries and achieved results in the end of this file.__\n",
    "\n",
    "*Note*: Tasks 2 and 3 are interrelated, in task 3 your goal is to make the network from task 2 less prone to overfitting. Task 1 is independent from 2 and 3.\n",
    "\n",
    "*Note 2*: We recomment to use Google Colab or other machine with GPU acceleration."
   ]
  },
  {
   "cell_type": "code",
   "execution_count": 1,
   "metadata": {
    "colab": {},
    "colab_type": "code",
    "id": "_KBld6VOSwhW"
   },
   "outputs": [],
   "source": [
    "import torch\n",
    "import torch.nn as nn\n",
    "import torchvision\n",
    "import torchvision.transforms as transforms\n",
    "import torchsummary\n",
    "from torch.utils.data import Subset\n",
    "from IPython.display import clear_output\n",
    "from matplotlib import pyplot as plt\n",
    "from matplotlib.pyplot import figure\n",
    "import numpy as np\n",
    "import os\n",
    "import time\n",
    "\n",
    "\n",
    "# device = 'cuda:0' if torch.cuda.is_available() else 'cpu'"
   ]
  },
  {
   "cell_type": "code",
   "execution_count": 2,
   "metadata": {
    "colab": {
     "base_uri": "https://localhost:8080/",
     "height": 35
    },
    "colab_type": "code",
    "id": "EdLOG0XqS_g5",
    "outputId": "1a58887c-24fc-4315-bb85-bdc88f4f485e"
   },
   "outputs": [
    {
     "name": "stdout",
     "output_type": "stream",
     "text": [
      "Directory fmnist already exists!\n"
     ]
    }
   ],
   "source": [
    "# Technical function\n",
    "def mkdir(path):\n",
    "    if not os.path.exists(root_path):\n",
    "        os.mkdir(root_path)\n",
    "        print('Directory', path, 'is created!')\n",
    "    else:\n",
    "        print('Directory', path, 'already exists!')\n",
    "        \n",
    "root_path = 'fmnist'\n",
    "mkdir(root_path)"
   ]
  },
  {
   "cell_type": "code",
   "execution_count": 3,
   "metadata": {
    "colab": {
     "base_uri": "https://localhost:8080/",
     "height": 397,
     "referenced_widgets": [
      "a00cbbf2385c426bb848399f3c13b70f",
      "4c7a7ac1286649c4804fefd359a1be74",
      "9faad8d0c45746ab8e06e120bb3ec0b6",
      "590134f878a74adb98fd129816fde03c",
      "92685fe1840a4555a6962c006ea90c23",
      "aa0dc032d1644bad8e741cf1696d9a70",
      "4296a7e9ab704f019451001dd12c4f46",
      "29b0a8c468e6410fb390b903559d6ef5",
      "fb66cde27d0849bba4947c024e198f7f",
      "bebcff464bfc44ffa82e311a39cae7d7",
      "b9d32ac7b88c4f4e900b160f05c016a3",
      "b2f66cc8930240a5b74d5480377496ed",
      "c1d770aa9eb34e4d942967c507f94009",
      "f280e146d6c54fb59f8ce36f2d1cc6a3",
      "9761d073bcef4c15ad64b01d7bef3561",
      "56418812bda04e7293dd8839018ae839",
      "e6efdf93b1444984810dd32d506227d5",
      "583e6f0878e04a0bbebf5d80d9d712dc",
      "0078023356f142bdbe4e13a42df460fb",
      "01658e0aebd84db9912ea456bd1ad030",
      "54a1be4ee00c44a0b72192135f62fa16",
      "df2e6c22b8af4a2e95bdd85fb48290a6",
      "835f930bb1504982aa56c835dc7b7df7",
      "30540b2b63064d828fd8502fd6d08877",
      "e734818e32a54c71b6397ef84b35bf07",
      "029f1768c5734beab39a592b44f75a9d",
      "bf33fa62bd4546bdbe142239f472fbb3",
      "ca04c2ebb96f48109ef440c260aa125a",
      "26a1b39d42ee490b8732f0e3856c9114",
      "545f1e0393b64b1b94710674213f4af8",
      "181b94c37c72459ca284267bc7675469",
      "748c2a2536394a50aab12eef92442fcb"
     ]
    },
    "colab_type": "code",
    "id": "qt6LE7XaTDT9",
    "outputId": "ab967f1e-8bf2-4199-cbd7-75806359ee1b"
   },
   "outputs": [],
   "source": [
    "download = True\n",
    "train_transform = transforms.ToTensor()\n",
    "test_transform = transforms.ToTensor()\n",
    "transforms.Compose((transforms.ToTensor()))\n",
    "\n",
    "\n",
    "fmnist_dataset_train = torchvision.datasets.FashionMNIST(root_path, \n",
    "                                                        train=True, \n",
    "                                                        transform=train_transform,\n",
    "                                                        target_transform=None,\n",
    "                                                        download=download)\n",
    "fmnist_dataset_test = torchvision.datasets.FashionMNIST(root_path, \n",
    "                                                       train=False, \n",
    "                                                       transform=test_transform,\n",
    "                                                       target_transform=None,\n",
    "                                                       download=download)"
   ]
  },
  {
   "cell_type": "code",
   "execution_count": 4,
   "metadata": {
    "colab": {},
    "colab_type": "code",
    "id": "71YP0SPwTIxD"
   },
   "outputs": [],
   "source": [
    "train_loader = torch.utils.data.DataLoader(fmnist_dataset_train, \n",
    "                                           batch_size=128,\n",
    "                                           shuffle=True,\n",
    "                                           num_workers=2)\n",
    "test_loader = torch.utils.data.DataLoader(fmnist_dataset_test,\n",
    "                                          batch_size=256,\n",
    "                                          shuffle=False,\n",
    "                                          num_workers=2)"
   ]
  },
  {
   "cell_type": "code",
   "execution_count": 5,
   "metadata": {
    "colab": {
     "base_uri": "https://localhost:8080/",
     "height": 35
    },
    "colab_type": "code",
    "id": "v_YFmF7NTWrQ",
    "outputId": "6b517f52-5fc5-482e-cc8e-cd6b3f1b72f1"
   },
   "outputs": [
    {
     "data": {
      "text/plain": [
       "10000"
      ]
     },
     "execution_count": 5,
     "metadata": {},
     "output_type": "execute_result"
    }
   ],
   "source": [
    "len(fmnist_dataset_test)"
   ]
  },
  {
   "cell_type": "code",
   "execution_count": 6,
   "metadata": {
    "colab": {
     "base_uri": "https://localhost:8080/",
     "height": 71
    },
    "colab_type": "code",
    "id": "aHca15bOTY4B",
    "outputId": "7eb477ef-816d-418c-f5c3-ade63d4cf915"
   },
   "outputs": [
    {
     "name": "stdout",
     "output_type": "stream",
     "text": [
      "torch.Size([128, 1, 28, 28])\n",
      "torch.Size([128])\n",
      "128\n"
     ]
    }
   ],
   "source": [
    "for img, label in train_loader:\n",
    "    print(img.shape)\n",
    "#     print(img)\n",
    "    print(label.shape)\n",
    "    print(label.size(0))\n",
    "    break"
   ]
  },
  {
   "cell_type": "markdown",
   "metadata": {
    "colab_type": "text",
    "id": "b6OOOffHTfX5"
   },
   "source": [
    "### Task 1\n",
    "Train a network that achieves $\\geq 0.885$ test accuracy. It's fine to use only Linear (`nn.Linear`) layers and activations/dropout/batchnorm. Convolutional layers might be a great use, but we will meet them a bit later."
   ]
  },
  {
   "cell_type": "code",
   "execution_count": null,
   "metadata": {
    "colab": {},
    "colab_type": "code",
    "id": "ftpkTjxlTcFx"
   },
   "outputs": [],
   "source": [
    "# class TinyNeuralNetwork(nn.Module):\n",
    "#     def __init__(self, input_shape=28*28, num_classes=10):\n",
    "#         super().__init__()\n",
    "#         self.model = nn.Sequential(\n",
    "#             nn.Flatten(),  # Converts image to a vector\n",
    "#             nn.Linear(input_shape, num_classes)  # Fully connected layer\n",
    "#         )\n",
    "        \n",
    "#     def forward(self, inp):\n",
    "#         out = self.model(inp)\n",
    "#         return out\n",
    "\n",
    "class TinyNeuralNetwork(nn.Module):\n",
    "    def __init__(self, input_shape=28*28, num_classes=10, input_channels=1):\n",
    "        super(self.__class__, self).__init__()\n",
    "        self.model = nn.Sequential(\n",
    "            nn.Flatten(),\n",
    "            nn.Linear(input_shape, 300),\n",
    "            nn.BatchNorm1d(300),\n",
    "            nn.Dropout(0.5),\n",
    "            nn.ReLU(),\n",
    "            nn.Linear(300, 100),\n",
    "            nn.Dropout(0.5),\n",
    "            nn.ReLU(),\n",
    "            nn.Linear(100, 10),\n",
    "            nn.LogSoftmax(dim=1)\n",
    "            \n",
    "        )\n",
    "  \n",
    "    def forward(self, inp):       \n",
    "        out = self.model(inp)\n",
    "        return out"
   ]
  },
  {
   "cell_type": "code",
   "execution_count": 8,
   "metadata": {},
   "outputs": [
    {
     "name": "stdout",
     "output_type": "stream",
     "text": [
      "----------------------------------------------------------------\n",
      "        Layer (type)               Output Shape         Param #\n",
      "================================================================\n",
      "           Flatten-1                  [-1, 784]               0\n",
      "            Linear-2                  [-1, 300]         235,500\n",
      "       BatchNorm1d-3                  [-1, 300]             600\n",
      "           Dropout-4                  [-1, 300]               0\n",
      "              ReLU-5                  [-1, 300]               0\n",
      "            Linear-6                  [-1, 100]          30,100\n",
      "           Dropout-7                  [-1, 100]               0\n",
      "              ReLU-8                  [-1, 100]               0\n",
      "            Linear-9                   [-1, 10]           1,010\n",
      "       LogSoftmax-10                   [-1, 10]               0\n",
      "================================================================\n",
      "Total params: 267,210\n",
      "Trainable params: 267,210\n",
      "Non-trainable params: 0\n",
      "----------------------------------------------------------------\n",
      "Input size (MB): 0.00\n",
      "Forward/backward pass size (MB): 0.02\n",
      "Params size (MB): 1.02\n",
      "Estimated Total Size (MB): 1.04\n",
      "----------------------------------------------------------------\n"
     ]
    }
   ],
   "source": [
    "device = 'cpu'\n",
    "model = TinyNeuralNetwork().to(device)\n",
    "\n",
    "torchsummary.summary(model, (28*28,), device=device)"
   ]
  },
  {
   "cell_type": "markdown",
   "metadata": {
    "colab_type": "text",
    "id": "544PGKEnjPr5"
   },
   "source": [
    "Your experiments come here:"
   ]
  },
  {
   "cell_type": "code",
   "execution_count": 9,
   "metadata": {
    "colab": {
     "base_uri": "https://localhost:8080/",
     "height": 607
    },
    "colab_type": "code",
    "id": "i3POFj90Ti-6",
    "outputId": "82e7e921-541b-4657-f78d-563de48b07c7"
   },
   "outputs": [],
   "source": [
    "model = TinyNeuralNetwork() #.to(device)\n",
    "optimizer = torch.optim.Adam(model.parameters(), lr=1e-3)\n",
    "error = nn.CrossEntropyLoss()"
   ]
  },
  {
   "cell_type": "markdown",
   "metadata": {},
   "source": [
    "# Train Function"
   ]
  },
  {
   "cell_type": "code",
   "execution_count": 13,
   "metadata": {},
   "outputs": [
    {
     "name": "stdout",
     "output_type": "stream",
     "text": [
      "Epoch: 1  Loss: 0.42933330312371254  Accuracy: 84.38999938964844%\n",
      "Epoch: 2  Loss: 0.4464716449379921  Accuracy: 83.44000244140625%\n",
      "Epoch: 3  Loss: 0.39722914397716524  Accuracy: 85.0199966430664%\n",
      "Epoch: 4  Loss: 0.3725716654211283  Accuracy: 86.13999938964844%\n",
      "Epoch: 5  Loss: 0.35245832800865173  Accuracy: 86.83999633789062%\n",
      "Epoch: 6  Loss: 0.35206481255590916  Accuracy: 86.81999969482422%\n",
      "Epoch: 7  Loss: 0.34454305097460747  Accuracy: 87.2300033569336%\n",
      "Epoch: 8  Loss: 0.3533564046025276  Accuracy: 86.62999725341797%\n",
      "Epoch: 9  Loss: 0.3499404598027468  Accuracy: 86.98999786376953%\n",
      "Epoch: 10  Loss: 0.331184290163219  Accuracy: 87.73999786376953%\n",
      "Epoch: 11  Loss: 0.32926512472331526  Accuracy: 87.80999755859375%\n",
      "Epoch: 12  Loss: 0.33133954238146546  Accuracy: 87.69999694824219%\n",
      "Epoch: 13  Loss: 0.3299170175567269  Accuracy: 87.63999938964844%\n",
      "Epoch: 14  Loss: 0.32045292388647795  Accuracy: 88.37999725341797%\n",
      "Epoch: 15  Loss: 0.3172508627176285  Accuracy: 88.05999755859375%\n",
      "Epoch: 16  Loss: 0.31499605588614943  Accuracy: 88.22000122070312%\n",
      "Epoch: 17  Loss: 0.3317083492875099  Accuracy: 88.06999969482422%\n",
      "Epoch: 18  Loss: 0.31459956262260674  Accuracy: 88.41999816894531%\n",
      "Epoch: 19  Loss: 0.31501223063096406  Accuracy: 88.2300033569336%\n",
      "Epoch: 20  Loss: 0.31117556206882  Accuracy: 88.5%\n",
      "Epoch: 21  Loss: 0.31294059921056033  Accuracy: 88.7699966430664%\n",
      "Epoch: 22  Loss: 0.3065252903848886  Accuracy: 88.70999908447266%\n",
      "Epoch: 23  Loss: 0.3086786217987537  Accuracy: 88.94999694824219%\n",
      "Epoch: 24  Loss: 0.30498153027147057  Accuracy: 88.97000122070312%\n",
      "Epoch: 25  Loss: 0.29889899380505086  Accuracy: 89.19000244140625%\n",
      "Epoch: 26  Loss: 0.30240844301879405  Accuracy: 88.80000305175781%\n",
      "Epoch: 27  Loss: 0.30010892525315286  Accuracy: 88.91000366210938%\n",
      "Epoch: 28  Loss: 0.3130642561241984  Accuracy: 88.52999877929688%\n",
      "Epoch: 29  Loss: 0.3047445762902498  Accuracy: 89.04000091552734%\n",
      "Epoch: 30  Loss: 0.31345548145473  Accuracy: 88.73999786376953%\n"
     ]
    }
   ],
   "source": [
    "from torch.autograd import Variable\n",
    "model = TinyNeuralNetwork()\n",
    "learning_rate = 0.001\n",
    "optimizer = torch.optim.Adam(model.parameters(), lr=1e-3)\n",
    "error = nn.CrossEntropyLoss() \n",
    "\n",
    "# Обучение модели\n",
    "count = 0\n",
    "\n",
    "loss_train_1 = []\n",
    "loss_test_1 = []\n",
    "\n",
    "accuracy_train_1 = []\n",
    "accuracy_test_1 = []\n",
    "\n",
    "for epoch in range(30):\n",
    "    loss_train_epoch = []\n",
    "    loss_test_epoch = []\n",
    "    accuracy_train_epoch = []\n",
    "    accuracy_test_epoch = []\n",
    "    \n",
    "    model.train(True)\n",
    "    for i, (images, labels) in enumerate(train_loader):\n",
    "           \n",
    "            images, labels = images.to(device), labels.to(device)\n",
    "            \n",
    "            optimizer.zero_grad()\n",
    "            outputs = model(images)\n",
    "            loss = error(outputs, labels)\n",
    "            loss.backward()\n",
    "            optimizer.step()\n",
    "\n",
    "            predicted1 = torch.max(outputs.data, 1)[1]\n",
    "            total1 = len(labels)\n",
    "            correct1 = (predicted1 == labels).sum()\n",
    "            accuracy1 = 100 * correct1 / float(total1)\n",
    "            accuracy_train_epoch.append(accuracy1.item())\n",
    "            loss_train_epoch.append(loss.item())\n",
    "            count += 1\n",
    "\n",
    "    model.train(False) \n",
    "    with torch.no_grad():\n",
    "        correct2 = 0\n",
    "        total2 = 0\n",
    "        for test_images, labels in test_loader: \n",
    "            \n",
    "            test_images, labels = test_images.to(device), labels.to(device)\n",
    "            \n",
    "            outputs = model(test_images)\n",
    "            loss_ = error(outputs, labels)\n",
    "            predicted2 = torch.max(outputs.data, 1)[1]\n",
    "\n",
    "            total2 += len(labels)\n",
    "            correct2 += (predicted2 == labels).sum()\n",
    "            loss_test_epoch.append(loss_.item())\n",
    "\n",
    "        accuracy2 = 100 * correct2 / float(total2)\n",
    "        accuracy_test_epoch.append(accuracy2.item())  \n",
    "    \n",
    "    accuracy_train_1.append(np.mean(accuracy_train_epoch))\n",
    "    accuracy_test_1.append(np.mean(accuracy_test_epoch))\n",
    "    loss_train_1.append(np.mean(loss_train_epoch))\n",
    "    loss_test_1.append(np.mean(loss_test_epoch))\n",
    "    print('Epoch: {}  Loss: {}  Accuracy: {}%'.format(epoch+1, loss_test_1[-1], accuracy2))\n"
   ]
  },
  {
   "cell_type": "markdown",
   "metadata": {},
   "source": [
    "# Visuals"
   ]
  },
  {
   "cell_type": "code",
   "execution_count": 14,
   "metadata": {},
   "outputs": [
    {
     "data": {
      "image/png": "[encoded data removed]",
      "text/plain": [
       "<Figure size 800x600 with 1 Axes>"
      ]
     },
     "metadata": {},
     "output_type": "display_data"
    },
    {
     "data": {
      "image/png": "[encoded data removed]",
      "text/plain": [
       "<Figure size 800x600 with 1 Axes>"
      ]
     },
     "metadata": {},
     "output_type": "display_data"
    }
   ],
   "source": [
    "# Потери\n",
    "plt.figure(figsize=(8, 6))\n",
    "plt.xlabel(\"#epoch\")\n",
    "plt.ylabel(\"loss\")\n",
    "plt.plot(np.arange(1,31), loss_train_1, label = 'loss_train')\n",
    "plt.plot(np.arange(1,31), loss_test_1, label = 'loss_test')\n",
    "plt.legend()\n",
    "plt.grid(True)\n",
    "plt.show()\n",
    "\n",
    "# Точность\n",
    "plt.figure(figsize=(8, 6))\n",
    "plt.xlabel(\"#epoch\")\n",
    "plt.ylabel(\"accuracy\")\n",
    "plt.plot( np.arange(1,31), accuracy_train_1, label = 'acc_train')\n",
    "plt.plot( np.arange(1,31), accuracy_test_1, label = 'acc_test')\n",
    "plt.legend()\n",
    "plt.grid(True)\n",
    "plt.show()"
   ]
  },
  {
   "cell_type": "markdown",
   "metadata": {
    "colab_type": "text",
    "id": "L7ISqkjmCPB1"
   },
   "source": [
    "### Task 2: Overfit it.\n",
    "Build a network that will overfit to this dataset. Demonstrate the overfitting in the appropriate way (e.g. plot loss and accurasy on train and test set w.r.t. network complexity).\n",
    "\n",
    "*Note:* you also might decrease the size of `train` dataset to enforce the overfitting and speed up the computations."
   ]
  },
  {
   "cell_type": "code",
   "execution_count": 16,
   "metadata": {},
   "outputs": [],
   "source": [
    "device = 'cuda:0' if torch.cuda.is_available() else 'cpu'"
   ]
  },
  {
   "cell_type": "code",
   "execution_count": 17,
   "metadata": {
    "colab": {},
    "colab_type": "code",
    "id": "H12uAWiGBwJx"
   },
   "outputs": [],
   "source": [
    "import torch.nn as nn\n",
    "\n",
    "class OverfittingNeuralNetwork(nn.Module):\n",
    "    def __init__(self, input_shape=28*28, num_classes=10):\n",
    "        super().__init__()\n",
    "        self.model = nn.Sequential(\n",
    "            nn.Flatten(),  \n",
    "            nn.Linear(784, 392),  \n",
    "            nn.ReLU(),  \n",
    "            nn.Linear(392, 10),  \n",
    "            nn.LogSoftmax(dim=1)  \n",
    "        )\n",
    "        \n",
    "    def forward(self, inp):\n",
    "        out = self.model(inp)\n",
    "        return out"
   ]
  },
  {
   "cell_type": "code",
   "execution_count": 18,
   "metadata": {
    "colab": {
     "base_uri": "https://localhost:8080/",
     "height": 449
    },
    "colab_type": "code",
    "id": "JgXAKCpvCwqH",
    "outputId": "8d29ad18-3f0c-4161-8bcd-004d24ba771c"
   },
   "outputs": [
    {
     "name": "stdout",
     "output_type": "stream",
     "text": [
      "----------------------------------------------------------------\n",
      "        Layer (type)               Output Shape         Param #\n",
      "================================================================\n",
      "           Flatten-1                  [-1, 784]               0\n",
      "            Linear-2                  [-1, 392]         307,720\n",
      "              ReLU-3                  [-1, 392]               0\n",
      "            Linear-4                   [-1, 10]           3,930\n",
      "        LogSoftmax-5                   [-1, 10]               0\n",
      "================================================================\n",
      "Total params: 311,650\n",
      "Trainable params: 311,650\n",
      "Non-trainable params: 0\n",
      "----------------------------------------------------------------\n",
      "Input size (MB): 0.00\n",
      "Forward/backward pass size (MB): 0.01\n",
      "Params size (MB): 1.19\n",
      "Estimated Total Size (MB): 1.20\n",
      "----------------------------------------------------------------\n"
     ]
    }
   ],
   "source": [
    "torchsummary.summary(OverfittingNeuralNetwork().to(device), (28*28,))"
   ]
  },
  {
   "cell_type": "code",
   "execution_count": 19,
   "metadata": {},
   "outputs": [],
   "source": [
    "model = OverfittingNeuralNetwork().to(device)\n",
    "opt = torch.optim.Adam(model.parameters(), lr=1e-3)\n",
    "loss_func = nn.CrossEntropyLoss()"
   ]
  },
  {
   "cell_type": "code",
   "execution_count": 24,
   "metadata": {},
   "outputs": [],
   "source": [
    "def train_model(model, train_loader, val_loader, loss_fn, opt, n_epochs: int):\n",
    "    train_loss = []\n",
    "    val_loss = []\n",
    "    val_accuracy = []\n",
    "    \n",
    "    for epoch in range(n_epochs):\n",
    "        ep_train_loss = []\n",
    "        ep_val_loss = []\n",
    "        ep_val_accuracy = []\n",
    "        start_time = time.time()\n",
    "\n",
    "        model.train(True)  \n",
    "        for X_batch, y_batch in train_loader:\n",
    "            \n",
    "            X_batch, y_batch = X_batch.to(device), y_batch.to(device)\n",
    "\n",
    "            opt.zero_grad()\n",
    "            predictions = model(X_batch)\n",
    "            loss = loss_fn(predictions, y_batch)\n",
    "            loss.backward()\n",
    "            opt.step()\n",
    "\n",
    "            ep_train_loss.append(loss.item())\n",
    "\n",
    "        model.train(False)  \n",
    "        with torch.no_grad():\n",
    "            for X_batch, y_batch in val_loader:\n",
    "                \n",
    "                X_batch, y_batch = X_batch.to(device), y_batch.to(device)\n",
    "\n",
    "                predictions = model(X_batch)\n",
    "                loss = loss_fn(predictions, y_batch)\n",
    "\n",
    "                ep_val_loss.append(loss.item())\n",
    "                y_pred = predictions.max(1)[1].data\n",
    "                ep_val_accuracy.append((y_pred == y_batch).float().mean().item())\n",
    "\n",
    "        train_loss.append(np.mean(ep_train_loss))\n",
    "        val_loss.append(np.mean(ep_val_loss))\n",
    "        val_accuracy.append(np.mean(ep_val_accuracy))\n",
    "\n",
    "        print(f\"Epoch {epoch+1}/{n_epochs}, Train Loss: {train_loss[-1]:.4f}, Val Loss: {val_loss[-1]:.4f}, Val Accuracy: {val_accuracy[-1]:.4f}, Time: {time.time() - start_time:.2f}s\")\n",
    "\n",
    "    return train_loss, val_loss, val_accuracy\n"
   ]
  },
  {
   "cell_type": "markdown",
   "metadata": {},
   "source": [
    "## Reduce the size of the dataset"
   ]
  },
  {
   "cell_type": "code",
   "execution_count": 25,
   "metadata": {},
   "outputs": [
    {
     "data": {
      "text/plain": [
       "6000"
      ]
     },
     "execution_count": 25,
     "metadata": {},
     "output_type": "execute_result"
    }
   ],
   "source": [
    "def subset_ind(dataset, ratio: float):\n",
    "    return np.random.choice(len(dataset), size=int(ratio*len(dataset)), replace=False)\n",
    "\n",
    "val_size = 0.1\n",
    "val_inds = subset_ind(fmnist_dataset_train, val_size)\n",
    "\n",
    "train_dataset = Subset(fmnist_dataset_train, val_inds)\n",
    "\n",
    "len(train_dataset)"
   ]
  },
  {
   "cell_type": "code",
   "execution_count": 26,
   "metadata": {},
   "outputs": [],
   "source": [
    "train_loader = torch.utils.data.DataLoader(train_dataset, \n",
    "                                           batch_size=128,\n",
    "                                           shuffle=True,\n",
    "                                           num_workers=2)"
   ]
  },
  {
   "cell_type": "code",
   "execution_count": 27,
   "metadata": {},
   "outputs": [
    {
     "name": "stdout",
     "output_type": "stream",
     "text": [
      "Epoch 1/75, Train Loss: 0.9955, Val Loss: 0.6685, Val Accuracy: 0.7590, Time: 5.90s\n",
      "Epoch 2/75, Train Loss: 0.5929, Val Loss: 0.5983, Val Accuracy: 0.7893, Time: 5.88s\n",
      "Epoch 3/75, Train Loss: 0.5125, Val Loss: 0.5370, Val Accuracy: 0.8128, Time: 6.19s\n",
      "Epoch 4/75, Train Loss: 0.4734, Val Loss: 0.4997, Val Accuracy: 0.8265, Time: 6.25s\n",
      "Epoch 5/75, Train Loss: 0.4278, Val Loss: 0.5013, Val Accuracy: 0.8274, Time: 6.25s\n",
      "Epoch 6/75, Train Loss: 0.4017, Val Loss: 0.4818, Val Accuracy: 0.8305, Time: 6.04s\n",
      "Epoch 7/75, Train Loss: 0.3816, Val Loss: 0.5022, Val Accuracy: 0.8281, Time: 6.00s\n",
      "Epoch 8/75, Train Loss: 0.3695, Val Loss: 0.4894, Val Accuracy: 0.8276, Time: 5.89s\n",
      "Epoch 9/75, Train Loss: 0.3477, Val Loss: 0.4714, Val Accuracy: 0.8370, Time: 5.94s\n",
      "Epoch 10/75, Train Loss: 0.3338, Val Loss: 0.4694, Val Accuracy: 0.8416, Time: 6.24s\n",
      "Epoch 11/75, Train Loss: 0.3196, Val Loss: 0.4903, Val Accuracy: 0.8327, Time: 6.45s\n",
      "Epoch 12/75, Train Loss: 0.3166, Val Loss: 0.4577, Val Accuracy: 0.8420, Time: 5.80s\n",
      "Epoch 13/75, Train Loss: 0.2957, Val Loss: 0.5343, Val Accuracy: 0.8192, Time: 6.40s\n",
      "Epoch 14/75, Train Loss: 0.2875, Val Loss: 0.4949, Val Accuracy: 0.8327, Time: 6.17s\n",
      "Epoch 15/75, Train Loss: 0.2670, Val Loss: 0.4552, Val Accuracy: 0.8458, Time: 6.30s\n",
      "Epoch 16/75, Train Loss: 0.2536, Val Loss: 0.4655, Val Accuracy: 0.8432, Time: 6.31s\n",
      "Epoch 17/75, Train Loss: 0.2475, Val Loss: 0.5270, Val Accuracy: 0.8248, Time: 6.04s\n",
      "Epoch 18/75, Train Loss: 0.2705, Val Loss: 0.4648, Val Accuracy: 0.8438, Time: 5.60s\n",
      "Epoch 19/75, Train Loss: 0.2348, Val Loss: 0.4569, Val Accuracy: 0.8471, Time: 5.54s\n",
      "Epoch 20/75, Train Loss: 0.2143, Val Loss: 0.4746, Val Accuracy: 0.8443, Time: 5.62s\n",
      "Epoch 21/75, Train Loss: 0.2059, Val Loss: 0.4720, Val Accuracy: 0.8465, Time: 5.62s\n",
      "Epoch 22/75, Train Loss: 0.1983, Val Loss: 0.4791, Val Accuracy: 0.8459, Time: 5.50s\n",
      "Epoch 23/75, Train Loss: 0.1942, Val Loss: 0.4799, Val Accuracy: 0.8447, Time: 5.60s\n",
      "Epoch 24/75, Train Loss: 0.1890, Val Loss: 0.4845, Val Accuracy: 0.8413, Time: 6.19s\n",
      "Epoch 25/75, Train Loss: 0.1831, Val Loss: 0.4916, Val Accuracy: 0.8408, Time: 5.73s\n",
      "Epoch 26/75, Train Loss: 0.1920, Val Loss: 0.4783, Val Accuracy: 0.8494, Time: 5.85s\n",
      "Epoch 27/75, Train Loss: 0.1661, Val Loss: 0.5109, Val Accuracy: 0.8400, Time: 6.03s\n",
      "Epoch 28/75, Train Loss: 0.1613, Val Loss: 0.4996, Val Accuracy: 0.8407, Time: 6.12s\n",
      "Epoch 29/75, Train Loss: 0.1532, Val Loss: 0.4951, Val Accuracy: 0.8447, Time: 6.25s\n",
      "Epoch 30/75, Train Loss: 0.1554, Val Loss: 0.5089, Val Accuracy: 0.8455, Time: 5.92s\n",
      "Epoch 31/75, Train Loss: 0.1435, Val Loss: 0.4992, Val Accuracy: 0.8483, Time: 5.94s\n",
      "Epoch 32/75, Train Loss: 0.1406, Val Loss: 0.5438, Val Accuracy: 0.8411, Time: 5.85s\n",
      "Epoch 33/75, Train Loss: 0.1340, Val Loss: 0.5188, Val Accuracy: 0.8430, Time: 5.83s\n",
      "Epoch 34/75, Train Loss: 0.1377, Val Loss: 0.5006, Val Accuracy: 0.8498, Time: 5.71s\n",
      "Epoch 35/75, Train Loss: 0.1223, Val Loss: 0.5126, Val Accuracy: 0.8501, Time: 5.70s\n",
      "Epoch 36/75, Train Loss: 0.1372, Val Loss: 0.5342, Val Accuracy: 0.8447, Time: 5.57s\n",
      "Epoch 37/75, Train Loss: 0.1135, Val Loss: 0.5151, Val Accuracy: 0.8482, Time: 6.20s\n",
      "Epoch 38/75, Train Loss: 0.1041, Val Loss: 0.5537, Val Accuracy: 0.8397, Time: 6.78s\n",
      "Epoch 39/75, Train Loss: 0.1021, Val Loss: 0.5599, Val Accuracy: 0.8434, Time: 5.93s\n",
      "Epoch 40/75, Train Loss: 0.0960, Val Loss: 0.5322, Val Accuracy: 0.8517, Time: 5.85s\n",
      "Epoch 41/75, Train Loss: 0.0952, Val Loss: 0.5342, Val Accuracy: 0.8484, Time: 6.18s\n",
      "Epoch 42/75, Train Loss: 0.1049, Val Loss: 0.5547, Val Accuracy: 0.8471, Time: 5.65s\n",
      "Epoch 43/75, Train Loss: 0.1034, Val Loss: 0.5295, Val Accuracy: 0.8516, Time: 5.97s\n",
      "Epoch 44/75, Train Loss: 0.0842, Val Loss: 0.5586, Val Accuracy: 0.8502, Time: 5.81s\n",
      "Epoch 45/75, Train Loss: 0.0835, Val Loss: 0.5681, Val Accuracy: 0.8461, Time: 5.85s\n",
      "Epoch 46/75, Train Loss: 0.0778, Val Loss: 0.5790, Val Accuracy: 0.8442, Time: 5.79s\n",
      "Epoch 47/75, Train Loss: 0.0807, Val Loss: 0.5587, Val Accuracy: 0.8505, Time: 5.79s\n",
      "Epoch 48/75, Train Loss: 0.0768, Val Loss: 0.5916, Val Accuracy: 0.8457, Time: 5.54s\n",
      "Epoch 49/75, Train Loss: 0.0698, Val Loss: 0.5809, Val Accuracy: 0.8479, Time: 5.51s\n",
      "Epoch 50/75, Train Loss: 0.0603, Val Loss: 0.5871, Val Accuracy: 0.8471, Time: 5.75s\n",
      "Epoch 51/75, Train Loss: 0.0580, Val Loss: 0.5801, Val Accuracy: 0.8505, Time: 5.52s\n",
      "Epoch 52/75, Train Loss: 0.0576, Val Loss: 0.5972, Val Accuracy: 0.8482, Time: 6.00s\n",
      "Epoch 53/75, Train Loss: 0.0510, Val Loss: 0.6077, Val Accuracy: 0.8462, Time: 5.80s\n",
      "Epoch 54/75, Train Loss: 0.0500, Val Loss: 0.5990, Val Accuracy: 0.8520, Time: 5.60s\n",
      "Epoch 55/75, Train Loss: 0.0494, Val Loss: 0.6357, Val Accuracy: 0.8483, Time: 5.51s\n",
      "Epoch 56/75, Train Loss: 0.0576, Val Loss: 0.6173, Val Accuracy: 0.8478, Time: 5.57s\n",
      "Epoch 57/75, Train Loss: 0.0457, Val Loss: 0.6158, Val Accuracy: 0.8512, Time: 5.94s\n",
      "Epoch 58/75, Train Loss: 0.0387, Val Loss: 0.6289, Val Accuracy: 0.8525, Time: 6.17s\n",
      "Epoch 59/75, Train Loss: 0.0403, Val Loss: 0.6588, Val Accuracy: 0.8455, Time: 5.99s\n",
      "Epoch 60/75, Train Loss: 0.0406, Val Loss: 0.6379, Val Accuracy: 0.8465, Time: 5.91s\n",
      "Epoch 61/75, Train Loss: 0.0375, Val Loss: 0.6579, Val Accuracy: 0.8458, Time: 6.14s\n",
      "Epoch 62/75, Train Loss: 0.0383, Val Loss: 0.6449, Val Accuracy: 0.8516, Time: 6.04s\n",
      "Epoch 63/75, Train Loss: 0.0430, Val Loss: 0.6426, Val Accuracy: 0.8508, Time: 6.12s\n",
      "Epoch 64/75, Train Loss: 0.0474, Val Loss: 0.6500, Val Accuracy: 0.8488, Time: 5.83s\n",
      "Epoch 65/75, Train Loss: 0.0344, Val Loss: 0.6620, Val Accuracy: 0.8506, Time: 5.78s\n",
      "Epoch 66/75, Train Loss: 0.0404, Val Loss: 0.6771, Val Accuracy: 0.8454, Time: 6.17s\n",
      "Epoch 67/75, Train Loss: 0.0303, Val Loss: 0.7436, Val Accuracy: 0.8402, Time: 5.97s\n",
      "Epoch 68/75, Train Loss: 0.0343, Val Loss: 0.6885, Val Accuracy: 0.8463, Time: 5.85s\n",
      "Epoch 69/75, Train Loss: 0.0298, Val Loss: 0.6779, Val Accuracy: 0.8512, Time: 6.02s\n",
      "Epoch 70/75, Train Loss: 0.0266, Val Loss: 0.6933, Val Accuracy: 0.8502, Time: 6.04s\n",
      "Epoch 71/75, Train Loss: 0.0225, Val Loss: 0.6956, Val Accuracy: 0.8469, Time: 5.87s\n",
      "Epoch 72/75, Train Loss: 0.0276, Val Loss: 0.7075, Val Accuracy: 0.8496, Time: 6.26s\n",
      "Epoch 73/75, Train Loss: 0.0278, Val Loss: 0.6861, Val Accuracy: 0.8500, Time: 6.16s\n",
      "Epoch 74/75, Train Loss: 0.0179, Val Loss: 0.7046, Val Accuracy: 0.8479, Time: 5.98s\n",
      "Epoch 75/75, Train Loss: 0.0316, Val Loss: 0.7294, Val Accuracy: 0.8454, Time: 5.77s\n"
     ]
    }
   ],
   "source": [
    "n_epochs = 75\n",
    "train_loss, val_loss, val_accuracy = train_model(model, train_loader, test_loader, loss_func, opt, n_epochs)"
   ]
  },
  {
   "cell_type": "code",
   "execution_count": 28,
   "metadata": {},
   "outputs": [],
   "source": [
    "def plot_train_process(train_loss, val_loss, val_accuracy):\n",
    "    fig, axes = plt.subplots(1, 2, figsize=(15, 5))\n",
    "\n",
    "    axes[0].set_title('Loss')\n",
    "    axes[0].plot(train_loss, label='train')\n",
    "    axes[0].plot(val_loss, label='validation')\n",
    "    axes[0].legend()\n",
    "\n",
    "    axes[1].set_title('Validation accuracy')\n",
    "    axes[1].plot(val_accuracy)\n",
    "    "
   ]
  },
  {
   "cell_type": "code",
   "execution_count": 29,
   "metadata": {},
   "outputs": [
    {
     "data": {
      "image/png": "[encoded data removed]",
      "text/plain": [
       "<Figure size 1500x500 with 2 Axes>"
      ]
     },
     "metadata": {},
     "output_type": "display_data"
    }
   ],
   "source": [
    "plot_train_process(train_loss, val_loss, val_accuracy)"
   ]
  },
  {
   "cell_type": "markdown",
   "metadata": {},
   "source": [
    "## Мы видим разницу в потерях, что является заметным признаком перетренированности"
   ]
  },
  {
   "cell_type": "markdown",
   "metadata": {},
   "source": [
    "### Task 3: Fix it.\n",
    "Fix the overfitted network from the previous step (at least partially) by using regularization techniques (Dropout/Batchnorm/...) and demonstrate the results. "
   ]
  },
  {
   "cell_type": "code",
   "execution_count": 30,
   "metadata": {},
   "outputs": [],
   "source": [
    "import torch.nn as nn\n",
    "\n",
    "class FixedNeuralNetwork(nn.Module):\n",
    "    def __init__(self, input_shape=28*28, num_classes=10):\n",
    "        super().__init__()\n",
    "        self.model = nn.Sequential(\n",
    "            nn.Flatten(),\n",
    "            nn.Dropout(p=0.5),\n",
    "            nn.Linear(784, 392),\n",
    "            nn.ReLU(),\n",
    "            nn.Dropout(p=0.5),\n",
    "            nn.Linear(392, num_classes),\n",
    "            nn.LogSoftmax(dim=1)\n",
    "        )\n",
    "        \n",
    "    def forward(self, inp):\n",
    "        out = self.model(inp)\n",
    "        return out"
   ]
  },
  {
   "cell_type": "code",
   "execution_count": 31,
   "metadata": {},
   "outputs": [
    {
     "name": "stdout",
     "output_type": "stream",
     "text": [
      "----------------------------------------------------------------\n",
      "        Layer (type)               Output Shape         Param #\n",
      "================================================================\n",
      "           Flatten-1                  [-1, 784]               0\n",
      "           Dropout-2                  [-1, 784]               0\n",
      "            Linear-3                  [-1, 392]         307,720\n",
      "              ReLU-4                  [-1, 392]               0\n",
      "           Dropout-5                  [-1, 392]               0\n",
      "            Linear-6                   [-1, 10]           3,930\n",
      "        LogSoftmax-7                   [-1, 10]               0\n",
      "================================================================\n",
      "Total params: 311,650\n",
      "Trainable params: 311,650\n",
      "Non-trainable params: 0\n",
      "----------------------------------------------------------------\n",
      "Input size (MB): 0.00\n",
      "Forward/backward pass size (MB): 0.02\n",
      "Params size (MB): 1.19\n",
      "Estimated Total Size (MB): 1.21\n",
      "----------------------------------------------------------------\n"
     ]
    }
   ],
   "source": [
    "torchsummary.summary(FixedNeuralNetwork().to(device), (28*28,))"
   ]
  },
  {
   "cell_type": "code",
   "execution_count": 32,
   "metadata": {},
   "outputs": [],
   "source": [
    "model = FixedNeuralNetwork().to(device)\n",
    "opt = torch.optim.Adam(model.parameters(), lr=1e-3)\n",
    "loss_func = nn.CrossEntropyLoss()"
   ]
  },
  {
   "cell_type": "code",
   "execution_count": 33,
   "metadata": {},
   "outputs": [
    {
     "name": "stdout",
     "output_type": "stream",
     "text": [
      "Epoch 1/75, Train Loss: 1.2001, Val Loss: 0.7651, Val Accuracy: 0.7271, Time: 5.92s\n",
      "Epoch 2/75, Train Loss: 0.7599, Val Loss: 0.6451, Val Accuracy: 0.7671, Time: 6.60s\n",
      "Epoch 3/75, Train Loss: 0.6826, Val Loss: 0.6015, Val Accuracy: 0.7737, Time: 6.05s\n",
      "Epoch 4/75, Train Loss: 0.6499, Val Loss: 0.5711, Val Accuracy: 0.7920, Time: 6.08s\n",
      "Epoch 5/75, Train Loss: 0.6162, Val Loss: 0.5694, Val Accuracy: 0.7959, Time: 6.24s\n",
      "Epoch 6/75, Train Loss: 0.5978, Val Loss: 0.5310, Val Accuracy: 0.8078, Time: 6.01s\n",
      "Epoch 7/75, Train Loss: 0.5815, Val Loss: 0.5272, Val Accuracy: 0.8115, Time: 5.97s\n",
      "Epoch 8/75, Train Loss: 0.5597, Val Loss: 0.5146, Val Accuracy: 0.8188, Time: 5.59s\n",
      "Epoch 9/75, Train Loss: 0.5492, Val Loss: 0.5181, Val Accuracy: 0.8115, Time: 5.58s\n",
      "Epoch 10/75, Train Loss: 0.5319, Val Loss: 0.5018, Val Accuracy: 0.8141, Time: 5.60s\n",
      "Epoch 11/75, Train Loss: 0.5365, Val Loss: 0.4984, Val Accuracy: 0.8252, Time: 5.61s\n",
      "Epoch 12/75, Train Loss: 0.5099, Val Loss: 0.4826, Val Accuracy: 0.8293, Time: 6.16s\n",
      "Epoch 13/75, Train Loss: 0.5033, Val Loss: 0.4773, Val Accuracy: 0.8280, Time: 5.89s\n",
      "Epoch 14/75, Train Loss: 0.4960, Val Loss: 0.4883, Val Accuracy: 0.8178, Time: 5.78s\n",
      "Epoch 15/75, Train Loss: 0.4973, Val Loss: 0.4805, Val Accuracy: 0.8221, Time: 5.78s\n",
      "Epoch 16/75, Train Loss: 0.4820, Val Loss: 0.4774, Val Accuracy: 0.8231, Time: 5.62s\n",
      "Epoch 17/75, Train Loss: 0.4882, Val Loss: 0.4739, Val Accuracy: 0.8250, Time: 5.61s\n",
      "Epoch 18/75, Train Loss: 0.4823, Val Loss: 0.4781, Val Accuracy: 0.8228, Time: 5.61s\n",
      "Epoch 19/75, Train Loss: 0.4576, Val Loss: 0.4592, Val Accuracy: 0.8336, Time: 5.62s\n",
      "Epoch 20/75, Train Loss: 0.4534, Val Loss: 0.4492, Val Accuracy: 0.8332, Time: 5.59s\n",
      "Epoch 21/75, Train Loss: 0.4679, Val Loss: 0.4493, Val Accuracy: 0.8346, Time: 5.59s\n",
      "Epoch 22/75, Train Loss: 0.4545, Val Loss: 0.4457, Val Accuracy: 0.8396, Time: 5.58s\n",
      "Epoch 23/75, Train Loss: 0.4617, Val Loss: 0.4556, Val Accuracy: 0.8370, Time: 5.58s\n",
      "Epoch 24/75, Train Loss: 0.4561, Val Loss: 0.4479, Val Accuracy: 0.8395, Time: 5.60s\n",
      "Epoch 25/75, Train Loss: 0.4406, Val Loss: 0.4531, Val Accuracy: 0.8320, Time: 5.57s\n",
      "Epoch 26/75, Train Loss: 0.4402, Val Loss: 0.4477, Val Accuracy: 0.8362, Time: 5.61s\n",
      "Epoch 27/75, Train Loss: 0.4362, Val Loss: 0.4396, Val Accuracy: 0.8424, Time: 5.60s\n",
      "Epoch 28/75, Train Loss: 0.4438, Val Loss: 0.4492, Val Accuracy: 0.8374, Time: 5.56s\n",
      "Epoch 29/75, Train Loss: 0.4393, Val Loss: 0.4510, Val Accuracy: 0.8395, Time: 5.52s\n",
      "Epoch 30/75, Train Loss: 0.4322, Val Loss: 0.4449, Val Accuracy: 0.8403, Time: 5.60s\n",
      "Epoch 31/75, Train Loss: 0.4227, Val Loss: 0.4329, Val Accuracy: 0.8448, Time: 5.57s\n",
      "Epoch 32/75, Train Loss: 0.4153, Val Loss: 0.4371, Val Accuracy: 0.8399, Time: 5.49s\n",
      "Epoch 33/75, Train Loss: 0.4123, Val Loss: 0.4391, Val Accuracy: 0.8406, Time: 5.49s\n",
      "Epoch 34/75, Train Loss: 0.3992, Val Loss: 0.4427, Val Accuracy: 0.8394, Time: 5.47s\n",
      "Epoch 35/75, Train Loss: 0.4062, Val Loss: 0.4354, Val Accuracy: 0.8450, Time: 5.47s\n",
      "Epoch 36/75, Train Loss: 0.3990, Val Loss: 0.4477, Val Accuracy: 0.8393, Time: 5.48s\n",
      "Epoch 37/75, Train Loss: 0.4033, Val Loss: 0.4280, Val Accuracy: 0.8475, Time: 5.51s\n",
      "Epoch 38/75, Train Loss: 0.4017, Val Loss: 0.4394, Val Accuracy: 0.8394, Time: 5.50s\n",
      "Epoch 39/75, Train Loss: 0.4012, Val Loss: 0.4426, Val Accuracy: 0.8386, Time: 5.46s\n",
      "Epoch 40/75, Train Loss: 0.3995, Val Loss: 0.4287, Val Accuracy: 0.8453, Time: 5.51s\n",
      "Epoch 41/75, Train Loss: 0.4019, Val Loss: 0.4279, Val Accuracy: 0.8496, Time: 5.55s\n",
      "Epoch 42/75, Train Loss: 0.3969, Val Loss: 0.4365, Val Accuracy: 0.8429, Time: 5.46s\n",
      "Epoch 43/75, Train Loss: 0.4026, Val Loss: 0.4227, Val Accuracy: 0.8504, Time: 5.49s\n",
      "Epoch 44/75, Train Loss: 0.3884, Val Loss: 0.4299, Val Accuracy: 0.8459, Time: 5.45s\n",
      "Epoch 45/75, Train Loss: 0.3884, Val Loss: 0.4328, Val Accuracy: 0.8442, Time: 5.46s\n",
      "Epoch 46/75, Train Loss: 0.3796, Val Loss: 0.4300, Val Accuracy: 0.8432, Time: 5.47s\n",
      "Epoch 47/75, Train Loss: 0.3921, Val Loss: 0.4311, Val Accuracy: 0.8427, Time: 5.46s\n",
      "Epoch 48/75, Train Loss: 0.3829, Val Loss: 0.4235, Val Accuracy: 0.8478, Time: 5.51s\n",
      "Epoch 49/75, Train Loss: 0.3884, Val Loss: 0.4446, Val Accuracy: 0.8413, Time: 5.48s\n",
      "Epoch 50/75, Train Loss: 0.3764, Val Loss: 0.4317, Val Accuracy: 0.8457, Time: 5.48s\n",
      "Epoch 51/75, Train Loss: 0.3787, Val Loss: 0.4317, Val Accuracy: 0.8439, Time: 5.48s\n",
      "Epoch 52/75, Train Loss: 0.3820, Val Loss: 0.4210, Val Accuracy: 0.8465, Time: 5.54s\n",
      "Epoch 53/75, Train Loss: 0.3761, Val Loss: 0.4335, Val Accuracy: 0.8403, Time: 5.50s\n",
      "Epoch 54/75, Train Loss: 0.3754, Val Loss: 0.4281, Val Accuracy: 0.8468, Time: 5.53s\n",
      "Epoch 55/75, Train Loss: 0.3754, Val Loss: 0.4337, Val Accuracy: 0.8416, Time: 5.56s\n",
      "Epoch 56/75, Train Loss: 0.3691, Val Loss: 0.4340, Val Accuracy: 0.8460, Time: 5.50s\n",
      "Epoch 57/75, Train Loss: 0.3692, Val Loss: 0.4201, Val Accuracy: 0.8463, Time: 5.50s\n",
      "Epoch 58/75, Train Loss: 0.3692, Val Loss: 0.4347, Val Accuracy: 0.8431, Time: 5.48s\n",
      "Epoch 59/75, Train Loss: 0.3666, Val Loss: 0.4275, Val Accuracy: 0.8457, Time: 5.61s\n",
      "Epoch 60/75, Train Loss: 0.3579, Val Loss: 0.4261, Val Accuracy: 0.8472, Time: 5.48s\n",
      "Epoch 61/75, Train Loss: 0.3599, Val Loss: 0.4230, Val Accuracy: 0.8480, Time: 5.50s\n",
      "Epoch 62/75, Train Loss: 0.3665, Val Loss: 0.4268, Val Accuracy: 0.8469, Time: 5.47s\n",
      "Epoch 63/75, Train Loss: 0.3527, Val Loss: 0.4293, Val Accuracy: 0.8457, Time: 5.56s\n",
      "Epoch 64/75, Train Loss: 0.3516, Val Loss: 0.4347, Val Accuracy: 0.8439, Time: 5.54s\n",
      "Epoch 65/75, Train Loss: 0.3649, Val Loss: 0.4256, Val Accuracy: 0.8454, Time: 5.59s\n",
      "Epoch 66/75, Train Loss: 0.3535, Val Loss: 0.4361, Val Accuracy: 0.8456, Time: 5.56s\n",
      "Epoch 67/75, Train Loss: 0.3551, Val Loss: 0.4258, Val Accuracy: 0.8496, Time: 5.56s\n",
      "Epoch 68/75, Train Loss: 0.3526, Val Loss: 0.4286, Val Accuracy: 0.8426, Time: 5.54s\n",
      "Epoch 69/75, Train Loss: 0.3553, Val Loss: 0.4244, Val Accuracy: 0.8494, Time: 5.56s\n",
      "Epoch 70/75, Train Loss: 0.3607, Val Loss: 0.4342, Val Accuracy: 0.8431, Time: 5.51s\n",
      "Epoch 71/75, Train Loss: 0.3621, Val Loss: 0.4200, Val Accuracy: 0.8501, Time: 5.58s\n",
      "Epoch 72/75, Train Loss: 0.3530, Val Loss: 0.4310, Val Accuracy: 0.8483, Time: 5.58s\n",
      "Epoch 73/75, Train Loss: 0.3538, Val Loss: 0.4299, Val Accuracy: 0.8485, Time: 5.51s\n",
      "Epoch 74/75, Train Loss: 0.3402, Val Loss: 0.4290, Val Accuracy: 0.8448, Time: 5.55s\n",
      "Epoch 75/75, Train Loss: 0.3509, Val Loss: 0.4264, Val Accuracy: 0.8468, Time: 5.56s\n"
     ]
    }
   ],
   "source": [
    "n_epochs = 75\n",
    "\n",
    "train_loss, val_loss, val_accuracy = train_model(model, train_loader, test_loader, loss_func, opt, n_epochs)"
   ]
  },
  {
   "cell_type": "code",
   "execution_count": 34,
   "metadata": {},
   "outputs": [
    {
     "data": {
      "image/png": "[encoded data removed]",
      "text/plain": [
       "<Figure size 1500x500 with 2 Axes>"
      ]
     },
     "metadata": {},
     "output_type": "display_data"
    }
   ],
   "source": [
    "plot_train_process(train_loss, val_loss, val_accuracy)"
   ]
  },
  {
   "cell_type": "markdown",
   "metadata": {
    "colab_type": "text",
    "id": "dMui_uLJ7G0d"
   },
   "source": [
    "### Conclusions:\n",
    "\n",
    "\n",
    "При анализе графиков потерь становится очевидным, что использование методов регуляризации уменьшает переобучение. Это особенно ясно при сравнении кривых потерь для наборов данных обучения и проверки. В переоснащенной модели кривые потерь при обучении и проверке значительно расходятся. Переоснащение произошло потому, что набор обучающих данных был намеренно сокращен до 6000 выборок, в то время как модель имела более 300 000 параметров, что привело к запоминанию данных моделью. После введения в модель отсева результаты улучшились, а разрыв между потерями при обучении и валидации стал менее выраженным."
   ]
  },
  {
   "cell_type": "markdown",
   "metadata": {},
   "source": []
  }
 ],
 "metadata": {
  "accelerator": "GPU",
  "colab": {
   "collapsed_sections": [],
   "name": "Overfit it.ipynb",
   "provenance": []
  },
  "kernelspec": {
   "display_name": "Python 3",
   "language": "python",
   "name": "python3"
  },
  "language_info": {
   "codemirror_mode": {
    "name": "ipython",
    "version": 3
   },
   "file_extension": ".py",
   "mimetype": "text/x-python",
   "name": "python",
   "nbconvert_exporter": "python",
   "pygments_lexer": "ipython3",
   "version": "3.11.5"
  },
  "widgets": {
   "application/vnd.jupyter.widget-state+json": {
    "0078023356f142bdbe4e13a42df460fb": {
     "model_module": "@jupyter-widgets/controls",
     "model_name": "IntProgressModel",
     "state": {
      "_dom_classes": [],
      "_model_module": "@jupyter-widgets/controls",
      "_model_module_version": "1.5.0",
      "_model_name": "IntProgressModel",
      "_view_count": null,
      "_view_module": "@jupyter-widgets/controls",
      "_view_module_version": "1.5.0",
      "_view_name": "ProgressView",
      "bar_style": "success",
      "description": "",
      "description_tooltip": null,
      "layout": "IPY_MODEL_df2e6c22b8af4a2e95bdd85fb48290a6",
      "max": 1,
      "min": 0,
      "orientation": "horizontal",
      "style": "IPY_MODEL_54a1be4ee00c44a0b72192135f62fa16",
      "value": 1
     }
    },
    "01658e0aebd84db9912ea456bd1ad030": {
     "model_module": "@jupyter-widgets/controls",
     "model_name": "HTMLModel",
     "state": {
      "_dom_classes": [],
      "_model_module": "@jupyter-widgets/controls",
      "_model_module_version": "1.5.0",
      "_model_name": "HTMLModel",
      "_view_count": null,
      "_view_module": "@jupyter-widgets/controls",
      "_view_module_version": "1.5.0",
      "_view_name": "HTMLView",
      "description": "",
      "description_tooltip": null,
      "layout": "IPY_MODEL_30540b2b63064d828fd8502fd6d08877",
      "placeholder": "​",
      "style": "IPY_MODEL_835f930bb1504982aa56c835dc7b7df7",
      "value": "4423680it [00:01, 3086127.05it/s]"
     }
    },
    "029f1768c5734beab39a592b44f75a9d": {
     "model_module": "@jupyter-widgets/base",
     "model_name": "LayoutModel",
     "state": {
      "_model_module": "@jupyter-widgets/base",
      "_model_module_version": "1.2.0",
      "_model_name": "LayoutModel",
      "_view_count": null,
      "_view_module": "@jupyter-widgets/base",
      "_view_module_version": "1.2.0",
      "_view_name": "LayoutView",
      "align_content": null,
      "align_items": null,
      "align_self": null,
      "border": null,
      "bottom": null,
      "display": null,
      "flex": null,
      "flex_flow": null,
      "grid_area": null,
      "grid_auto_columns": null,
      "grid_auto_flow": null,
      "grid_auto_rows": null,
      "grid_column": null,
      "grid_gap": null,
      "grid_row": null,
      "grid_template_areas": null,
      "grid_template_columns": null,
      "grid_template_rows": null,
      "height": null,
      "justify_content": null,
      "justify_items": null,
      "left": null,
      "margin": null,
      "max_height": null,
      "max_width": null,
      "min_height": null,
      "min_width": null,
      "object_fit": null,
      "object_position": null,
      "order": null,
      "overflow": null,
      "overflow_x": null,
      "overflow_y": null,
      "padding": null,
      "right": null,
      "top": null,
      "visibility": null,
      "width": null
     }
    },
    "181b94c37c72459ca284267bc7675469": {
     "model_module": "@jupyter-widgets/controls",
     "model_name": "DescriptionStyleModel",
     "state": {
      "_model_module": "@jupyter-widgets/controls",
      "_model_module_version": "1.5.0",
      "_model_name": "DescriptionStyleModel",
      "_view_count": null,
      "_view_module": "@jupyter-widgets/base",
      "_view_module_version": "1.2.0",
      "_view_name": "StyleView",
      "description_width": ""
     }
    },
    "26a1b39d42ee490b8732f0e3856c9114": {
     "model_module": "@jupyter-widgets/controls",
     "model_name": "ProgressStyleModel",
     "state": {
      "_model_module": "@jupyter-widgets/controls",
      "_model_module_version": "1.5.0",
      "_model_name": "ProgressStyleModel",
      "_view_count": null,
      "_view_module": "@jupyter-widgets/base",
      "_view_module_version": "1.2.0",
      "_view_name": "StyleView",
      "bar_color": null,
      "description_width": ""
     }
    },
    "29b0a8c468e6410fb390b903559d6ef5": {
     "model_module": "@jupyter-widgets/base",
     "model_name": "LayoutModel",
     "state": {
      "_model_module": "@jupyter-widgets/base",
      "_model_module_version": "1.2.0",
      "_model_name": "LayoutModel",
      "_view_count": null,
      "_view_module": "@jupyter-widgets/base",
      "_view_module_version": "1.2.0",
      "_view_name": "LayoutView",
      "align_content": null,
      "align_items": null,
      "align_self": null,
      "border": null,
      "bottom": null,
      "display": null,
      "flex": null,
      "flex_flow": null,
      "grid_area": null,
      "grid_auto_columns": null,
      "grid_auto_flow": null,
      "grid_auto_rows": null,
      "grid_column": null,
      "grid_gap": null,
      "grid_row": null,
      "grid_template_areas": null,
      "grid_template_columns": null,
      "grid_template_rows": null,
      "height": null,
      "justify_content": null,
      "justify_items": null,
      "left": null,
      "margin": null,
      "max_height": null,
      "max_width": null,
      "min_height": null,
      "min_width": null,
      "object_fit": null,
      "object_position": null,
      "order": null,
      "overflow": null,
      "overflow_x": null,
      "overflow_y": null,
      "padding": null,
      "right": null,
      "top": null,
      "visibility": null,
      "width": null
     }
    },
    "30540b2b63064d828fd8502fd6d08877": {
     "model_module": "@jupyter-widgets/base",
     "model_name": "LayoutModel",
     "state": {
      "_model_module": "@jupyter-widgets/base",
      "_model_module_version": "1.2.0",
      "_model_name": "LayoutModel",
      "_view_count": null,
      "_view_module": "@jupyter-widgets/base",
      "_view_module_version": "1.2.0",
      "_view_name": "LayoutView",
      "align_content": null,
      "align_items": null,
      "align_self": null,
      "border": null,
      "bottom": null,
      "display": null,
      "flex": null,
      "flex_flow": null,
      "grid_area": null,
      "grid_auto_columns": null,
      "grid_auto_flow": null,
      "grid_auto_rows": null,
      "grid_column": null,
      "grid_gap": null,
      "grid_row": null,
      "grid_template_areas": null,
      "grid_template_columns": null,
      "grid_template_rows": null,
      "height": null,
      "justify_content": null,
      "justify_items": null,
      "left": null,
      "margin": null,
      "max_height": null,
      "max_width": null,
      "min_height": null,
      "min_width": null,
      "object_fit": null,
      "object_position": null,
      "order": null,
      "overflow": null,
      "overflow_x": null,
      "overflow_y": null,
      "padding": null,
      "right": null,
      "top": null,
      "visibility": null,
      "width": null
     }
    },
    "4296a7e9ab704f019451001dd12c4f46": {
     "model_module": "@jupyter-widgets/controls",
     "model_name": "DescriptionStyleModel",
     "state": {
      "_model_module": "@jupyter-widgets/controls",
      "_model_module_version": "1.5.0",
      "_model_name": "DescriptionStyleModel",
      "_view_count": null,
      "_view_module": "@jupyter-widgets/base",
      "_view_module_version": "1.2.0",
      "_view_name": "StyleView",
      "description_width": ""
     }
    },
    "4c7a7ac1286649c4804fefd359a1be74": {
     "model_module": "@jupyter-widgets/base",
     "model_name": "LayoutModel",
     "state": {
      "_model_module": "@jupyter-widgets/base",
      "_model_module_version": "1.2.0",
      "_model_name": "LayoutModel",
      "_view_count": null,
      "_view_module": "@jupyter-widgets/base",
      "_view_module_version": "1.2.0",
      "_view_name": "LayoutView",
      "align_content": null,
      "align_items": null,
      "align_self": null,
      "border": null,
      "bottom": null,
      "display": null,
      "flex": null,
      "flex_flow": null,
      "grid_area": null,
      "grid_auto_columns": null,
      "grid_auto_flow": null,
      "grid_auto_rows": null,
      "grid_column": null,
      "grid_gap": null,
      "grid_row": null,
      "grid_template_areas": null,
      "grid_template_columns": null,
      "grid_template_rows": null,
      "height": null,
      "justify_content": null,
      "justify_items": null,
      "left": null,
      "margin": null,
      "max_height": null,
      "max_width": null,
      "min_height": null,
      "min_width": null,
      "object_fit": null,
      "object_position": null,
      "order": null,
      "overflow": null,
      "overflow_x": null,
      "overflow_y": null,
      "padding": null,
      "right": null,
      "top": null,
      "visibility": null,
      "width": null
     }
    },
    "545f1e0393b64b1b94710674213f4af8": {
     "model_module": "@jupyter-widgets/base",
     "model_name": "LayoutModel",
     "state": {
      "_model_module": "@jupyter-widgets/base",
      "_model_module_version": "1.2.0",
      "_model_name": "LayoutModel",
      "_view_count": null,
      "_view_module": "@jupyter-widgets/base",
      "_view_module_version": "1.2.0",
      "_view_name": "LayoutView",
      "align_content": null,
      "align_items": null,
      "align_self": null,
      "border": null,
      "bottom": null,
      "display": null,
      "flex": null,
      "flex_flow": null,
      "grid_area": null,
      "grid_auto_columns": null,
      "grid_auto_flow": null,
      "grid_auto_rows": null,
      "grid_column": null,
      "grid_gap": null,
      "grid_row": null,
      "grid_template_areas": null,
      "grid_template_columns": null,
      "grid_template_rows": null,
      "height": null,
      "justify_content": null,
      "justify_items": null,
      "left": null,
      "margin": null,
      "max_height": null,
      "max_width": null,
      "min_height": null,
      "min_width": null,
      "object_fit": null,
      "object_position": null,
      "order": null,
      "overflow": null,
      "overflow_x": null,
      "overflow_y": null,
      "padding": null,
      "right": null,
      "top": null,
      "visibility": null,
      "width": null
     }
    },
    "54a1be4ee00c44a0b72192135f62fa16": {
     "model_module": "@jupyter-widgets/controls",
     "model_name": "ProgressStyleModel",
     "state": {
      "_model_module": "@jupyter-widgets/controls",
      "_model_module_version": "1.5.0",
      "_model_name": "ProgressStyleModel",
      "_view_count": null,
      "_view_module": "@jupyter-widgets/base",
      "_view_module_version": "1.2.0",
      "_view_name": "StyleView",
      "bar_color": null,
      "description_width": ""
     }
    },
    "56418812bda04e7293dd8839018ae839": {
     "model_module": "@jupyter-widgets/base",
     "model_name": "LayoutModel",
     "state": {
      "_model_module": "@jupyter-widgets/base",
      "_model_module_version": "1.2.0",
      "_model_name": "LayoutModel",
      "_view_count": null,
      "_view_module": "@jupyter-widgets/base",
      "_view_module_version": "1.2.0",
      "_view_name": "LayoutView",
      "align_content": null,
      "align_items": null,
      "align_self": null,
      "border": null,
      "bottom": null,
      "display": null,
      "flex": null,
      "flex_flow": null,
      "grid_area": null,
      "grid_auto_columns": null,
      "grid_auto_flow": null,
      "grid_auto_rows": null,
      "grid_column": null,
      "grid_gap": null,
      "grid_row": null,
      "grid_template_areas": null,
      "grid_template_columns": null,
      "grid_template_rows": null,
      "height": null,
      "justify_content": null,
      "justify_items": null,
      "left": null,
      "margin": null,
      "max_height": null,
      "max_width": null,
      "min_height": null,
      "min_width": null,
      "object_fit": null,
      "object_position": null,
      "order": null,
      "overflow": null,
      "overflow_x": null,
      "overflow_y": null,
      "padding": null,
      "right": null,
      "top": null,
      "visibility": null,
      "width": null
     }
    },
    "583e6f0878e04a0bbebf5d80d9d712dc": {
     "model_module": "@jupyter-widgets/base",
     "model_name": "LayoutModel",
     "state": {
      "_model_module": "@jupyter-widgets/base",
      "_model_module_version": "1.2.0",
      "_model_name": "LayoutModel",
      "_view_count": null,
      "_view_module": "@jupyter-widgets/base",
      "_view_module_version": "1.2.0",
      "_view_name": "LayoutView",
      "align_content": null,
      "align_items": null,
      "align_self": null,
      "border": null,
      "bottom": null,
      "display": null,
      "flex": null,
      "flex_flow": null,
      "grid_area": null,
      "grid_auto_columns": null,
      "grid_auto_flow": null,
      "grid_auto_rows": null,
      "grid_column": null,
      "grid_gap": null,
      "grid_row": null,
      "grid_template_areas": null,
      "grid_template_columns": null,
      "grid_template_rows": null,
      "height": null,
      "justify_content": null,
      "justify_items": null,
      "left": null,
      "margin": null,
      "max_height": null,
      "max_width": null,
      "min_height": null,
      "min_width": null,
      "object_fit": null,
      "object_position": null,
      "order": null,
      "overflow": null,
      "overflow_x": null,
      "overflow_y": null,
      "padding": null,
      "right": null,
      "top": null,
      "visibility": null,
      "width": null
     }
    },
    "590134f878a74adb98fd129816fde03c": {
     "model_module": "@jupyter-widgets/controls",
     "model_name": "HTMLModel",
     "state": {
      "_dom_classes": [],
      "_model_module": "@jupyter-widgets/controls",
      "_model_module_version": "1.5.0",
      "_model_name": "HTMLModel",
      "_view_count": null,
      "_view_module": "@jupyter-widgets/controls",
      "_view_module_version": "1.5.0",
      "_view_name": "HTMLView",
      "description": "",
      "description_tooltip": null,
      "layout": "IPY_MODEL_29b0a8c468e6410fb390b903559d6ef5",
      "placeholder": "​",
      "style": "IPY_MODEL_4296a7e9ab704f019451001dd12c4f46",
      "value": "26427392it [00:02, 10150318.78it/s]"
     }
    },
    "748c2a2536394a50aab12eef92442fcb": {
     "model_module": "@jupyter-widgets/base",
     "model_name": "LayoutModel",
     "state": {
      "_model_module": "@jupyter-widgets/base",
      "_model_module_version": "1.2.0",
      "_model_name": "LayoutModel",
      "_view_count": null,
      "_view_module": "@jupyter-widgets/base",
      "_view_module_version": "1.2.0",
      "_view_name": "LayoutView",
      "align_content": null,
      "align_items": null,
      "align_self": null,
      "border": null,
      "bottom": null,
      "display": null,
      "flex": null,
      "flex_flow": null,
      "grid_area": null,
      "grid_auto_columns": null,
      "grid_auto_flow": null,
      "grid_auto_rows": null,
      "grid_column": null,
      "grid_gap": null,
      "grid_row": null,
      "grid_template_areas": null,
      "grid_template_columns": null,
      "grid_template_rows": null,
      "height": null,
      "justify_content": null,
      "justify_items": null,
      "left": null,
      "margin": null,
      "max_height": null,
      "max_width": null,
      "min_height": null,
      "min_width": null,
      "object_fit": null,
      "object_position": null,
      "order": null,
      "overflow": null,
      "overflow_x": null,
      "overflow_y": null,
      "padding": null,
      "right": null,
      "top": null,
      "visibility": null,
      "width": null
     }
    },
    "835f930bb1504982aa56c835dc7b7df7": {
     "model_module": "@jupyter-widgets/controls",
     "model_name": "DescriptionStyleModel",
     "state": {
      "_model_module": "@jupyter-widgets/controls",
      "_model_module_version": "1.5.0",
      "_model_name": "DescriptionStyleModel",
      "_view_count": null,
      "_view_module": "@jupyter-widgets/base",
      "_view_module_version": "1.2.0",
      "_view_name": "StyleView",
      "description_width": ""
     }
    },
    "92685fe1840a4555a6962c006ea90c23": {
     "model_module": "@jupyter-widgets/controls",
     "model_name": "ProgressStyleModel",
     "state": {
      "_model_module": "@jupyter-widgets/controls",
      "_model_module_version": "1.5.0",
      "_model_name": "ProgressStyleModel",
      "_view_count": null,
      "_view_module": "@jupyter-widgets/base",
      "_view_module_version": "1.2.0",
      "_view_name": "StyleView",
      "bar_color": null,
      "description_width": ""
     }
    },
    "9761d073bcef4c15ad64b01d7bef3561": {
     "model_module": "@jupyter-widgets/controls",
     "model_name": "DescriptionStyleModel",
     "state": {
      "_model_module": "@jupyter-widgets/controls",
      "_model_module_version": "1.5.0",
      "_model_name": "DescriptionStyleModel",
      "_view_count": null,
      "_view_module": "@jupyter-widgets/base",
      "_view_module_version": "1.2.0",
      "_view_name": "StyleView",
      "description_width": ""
     }
    },
    "9faad8d0c45746ab8e06e120bb3ec0b6": {
     "model_module": "@jupyter-widgets/controls",
     "model_name": "IntProgressModel",
     "state": {
      "_dom_classes": [],
      "_model_module": "@jupyter-widgets/controls",
      "_model_module_version": "1.5.0",
      "_model_name": "IntProgressModel",
      "_view_count": null,
      "_view_module": "@jupyter-widgets/controls",
      "_view_module_version": "1.5.0",
      "_view_name": "ProgressView",
      "bar_style": "success",
      "description": "",
      "description_tooltip": null,
      "layout": "IPY_MODEL_aa0dc032d1644bad8e741cf1696d9a70",
      "max": 1,
      "min": 0,
      "orientation": "horizontal",
      "style": "IPY_MODEL_92685fe1840a4555a6962c006ea90c23",
      "value": 1
     }
    },
    "a00cbbf2385c426bb848399f3c13b70f": {
     "model_module": "@jupyter-widgets/controls",
     "model_name": "HBoxModel",
     "state": {
      "_dom_classes": [],
      "_model_module": "@jupyter-widgets/controls",
      "_model_module_version": "1.5.0",
      "_model_name": "HBoxModel",
      "_view_count": null,
      "_view_module": "@jupyter-widgets/controls",
      "_view_module_version": "1.5.0",
      "_view_name": "HBoxView",
      "box_style": "",
      "children": [
       "IPY_MODEL_9faad8d0c45746ab8e06e120bb3ec0b6",
       "IPY_MODEL_590134f878a74adb98fd129816fde03c"
      ],
      "layout": "IPY_MODEL_4c7a7ac1286649c4804fefd359a1be74"
     }
    },
    "aa0dc032d1644bad8e741cf1696d9a70": {
     "model_module": "@jupyter-widgets/base",
     "model_name": "LayoutModel",
     "state": {
      "_model_module": "@jupyter-widgets/base",
      "_model_module_version": "1.2.0",
      "_model_name": "LayoutModel",
      "_view_count": null,
      "_view_module": "@jupyter-widgets/base",
      "_view_module_version": "1.2.0",
      "_view_name": "LayoutView",
      "align_content": null,
      "align_items": null,
      "align_self": null,
      "border": null,
      "bottom": null,
      "display": null,
      "flex": null,
      "flex_flow": null,
      "grid_area": null,
      "grid_auto_columns": null,
      "grid_auto_flow": null,
      "grid_auto_rows": null,
      "grid_column": null,
      "grid_gap": null,
      "grid_row": null,
      "grid_template_areas": null,
      "grid_template_columns": null,
      "grid_template_rows": null,
      "height": null,
      "justify_content": null,
      "justify_items": null,
      "left": null,
      "margin": null,
      "max_height": null,
      "max_width": null,
      "min_height": null,
      "min_width": null,
      "object_fit": null,
      "object_position": null,
      "order": null,
      "overflow": null,
      "overflow_x": null,
      "overflow_y": null,
      "padding": null,
      "right": null,
      "top": null,
      "visibility": null,
      "width": null
     }
    },
    "b2f66cc8930240a5b74d5480377496ed": {
     "model_module": "@jupyter-widgets/controls",
     "model_name": "HTMLModel",
     "state": {
      "_dom_classes": [],
      "_model_module": "@jupyter-widgets/controls",
      "_model_module_version": "1.5.0",
      "_model_name": "HTMLModel",
      "_view_count": null,
      "_view_module": "@jupyter-widgets/controls",
      "_view_module_version": "1.5.0",
      "_view_name": "HTMLView",
      "description": "",
      "description_tooltip": null,
      "layout": "IPY_MODEL_56418812bda04e7293dd8839018ae839",
      "placeholder": "​",
      "style": "IPY_MODEL_9761d073bcef4c15ad64b01d7bef3561",
      "value": "32768it [00:00, 71991.19it/s]"
     }
    },
    "b9d32ac7b88c4f4e900b160f05c016a3": {
     "model_module": "@jupyter-widgets/controls",
     "model_name": "IntProgressModel",
     "state": {
      "_dom_classes": [],
      "_model_module": "@jupyter-widgets/controls",
      "_model_module_version": "1.5.0",
      "_model_name": "IntProgressModel",
      "_view_count": null,
      "_view_module": "@jupyter-widgets/controls",
      "_view_module_version": "1.5.0",
      "_view_name": "ProgressView",
      "bar_style": "success",
      "description": "",
      "description_tooltip": null,
      "layout": "IPY_MODEL_f280e146d6c54fb59f8ce36f2d1cc6a3",
      "max": 1,
      "min": 0,
      "orientation": "horizontal",
      "style": "IPY_MODEL_c1d770aa9eb34e4d942967c507f94009",
      "value": 1
     }
    },
    "bebcff464bfc44ffa82e311a39cae7d7": {
     "model_module": "@jupyter-widgets/base",
     "model_name": "LayoutModel",
     "state": {
      "_model_module": "@jupyter-widgets/base",
      "_model_module_version": "1.2.0",
      "_model_name": "LayoutModel",
      "_view_count": null,
      "_view_module": "@jupyter-widgets/base",
      "_view_module_version": "1.2.0",
      "_view_name": "LayoutView",
      "align_content": null,
      "align_items": null,
      "align_self": null,
      "border": null,
      "bottom": null,
      "display": null,
      "flex": null,
      "flex_flow": null,
      "grid_area": null,
      "grid_auto_columns": null,
      "grid_auto_flow": null,
      "grid_auto_rows": null,
      "grid_column": null,
      "grid_gap": null,
      "grid_row": null,
      "grid_template_areas": null,
      "grid_template_columns": null,
      "grid_template_rows": null,
      "height": null,
      "justify_content": null,
      "justify_items": null,
      "left": null,
      "margin": null,
      "max_height": null,
      "max_width": null,
      "min_height": null,
      "min_width": null,
      "object_fit": null,
      "object_position": null,
      "order": null,
      "overflow": null,
      "overflow_x": null,
      "overflow_y": null,
      "padding": null,
      "right": null,
      "top": null,
      "visibility": null,
      "width": null
     }
    },
    "bf33fa62bd4546bdbe142239f472fbb3": {
     "model_module": "@jupyter-widgets/controls",
     "model_name": "IntProgressModel",
     "state": {
      "_dom_classes": [],
      "_model_module": "@jupyter-widgets/controls",
      "_model_module_version": "1.5.0",
      "_model_name": "IntProgressModel",
      "_view_count": null,
      "_view_module": "@jupyter-widgets/controls",
      "_view_module_version": "1.5.0",
      "_view_name": "ProgressView",
      "bar_style": "success",
      "description": "",
      "description_tooltip": null,
      "layout": "IPY_MODEL_545f1e0393b64b1b94710674213f4af8",
      "max": 1,
      "min": 0,
      "orientation": "horizontal",
      "style": "IPY_MODEL_26a1b39d42ee490b8732f0e3856c9114",
      "value": 1
     }
    },
    "c1d770aa9eb34e4d942967c507f94009": {
     "model_module": "@jupyter-widgets/controls",
     "model_name": "ProgressStyleModel",
     "state": {
      "_model_module": "@jupyter-widgets/controls",
      "_model_module_version": "1.5.0",
      "_model_name": "ProgressStyleModel",
      "_view_count": null,
      "_view_module": "@jupyter-widgets/base",
      "_view_module_version": "1.2.0",
      "_view_name": "StyleView",
      "bar_color": null,
      "description_width": ""
     }
    },
    "ca04c2ebb96f48109ef440c260aa125a": {
     "model_module": "@jupyter-widgets/controls",
     "model_name": "HTMLModel",
     "state": {
      "_dom_classes": [],
      "_model_module": "@jupyter-widgets/controls",
      "_model_module_version": "1.5.0",
      "_model_name": "HTMLModel",
      "_view_count": null,
      "_view_module": "@jupyter-widgets/controls",
      "_view_module_version": "1.5.0",
      "_view_name": "HTMLView",
      "description": "",
      "description_tooltip": null,
      "layout": "IPY_MODEL_748c2a2536394a50aab12eef92442fcb",
      "placeholder": "​",
      "style": "IPY_MODEL_181b94c37c72459ca284267bc7675469",
      "value": "8192it [00:00, 25429.90it/s]"
     }
    },
    "df2e6c22b8af4a2e95bdd85fb48290a6": {
     "model_module": "@jupyter-widgets/base",
     "model_name": "LayoutModel",
     "state": {
      "_model_module": "@jupyter-widgets/base",
      "_model_module_version": "1.2.0",
      "_model_name": "LayoutModel",
      "_view_count": null,
      "_view_module": "@jupyter-widgets/base",
      "_view_module_version": "1.2.0",
      "_view_name": "LayoutView",
      "align_content": null,
      "align_items": null,
      "align_self": null,
      "border": null,
      "bottom": null,
      "display": null,
      "flex": null,
      "flex_flow": null,
      "grid_area": null,
      "grid_auto_columns": null,
      "grid_auto_flow": null,
      "grid_auto_rows": null,
      "grid_column": null,
      "grid_gap": null,
      "grid_row": null,
      "grid_template_areas": null,
      "grid_template_columns": null,
      "grid_template_rows": null,
      "height": null,
      "justify_content": null,
      "justify_items": null,
      "left": null,
      "margin": null,
      "max_height": null,
      "max_width": null,
      "min_height": null,
      "min_width": null,
      "object_fit": null,
      "object_position": null,
      "order": null,
      "overflow": null,
      "overflow_x": null,
      "overflow_y": null,
      "padding": null,
      "right": null,
      "top": null,
      "visibility": null,
      "width": null
     }
    },
    "e6efdf93b1444984810dd32d506227d5": {
     "model_module": "@jupyter-widgets/controls",
     "model_name": "HBoxModel",
     "state": {
      "_dom_classes": [],
      "_model_module": "@jupyter-widgets/controls",
      "_model_module_version": "1.5.0",
      "_model_name": "HBoxModel",
      "_view_count": null,
      "_view_module": "@jupyter-widgets/controls",
      "_view_module_version": "1.5.0",
      "_view_name": "HBoxView",
      "box_style": "",
      "children": [
       "IPY_MODEL_0078023356f142bdbe4e13a42df460fb",
       "IPY_MODEL_01658e0aebd84db9912ea456bd1ad030"
      ],
      "layout": "IPY_MODEL_583e6f0878e04a0bbebf5d80d9d712dc"
     }
    },
    "e734818e32a54c71b6397ef84b35bf07": {
     "model_module": "@jupyter-widgets/controls",
     "model_name": "HBoxModel",
     "state": {
      "_dom_classes": [],
      "_model_module": "@jupyter-widgets/controls",
      "_model_module_version": "1.5.0",
      "_model_name": "HBoxModel",
      "_view_count": null,
      "_view_module": "@jupyter-widgets/controls",
      "_view_module_version": "1.5.0",
      "_view_name": "HBoxView",
      "box_style": "",
      "children": [
       "IPY_MODEL_bf33fa62bd4546bdbe142239f472fbb3",
       "IPY_MODEL_ca04c2ebb96f48109ef440c260aa125a"
      ],
      "layout": "IPY_MODEL_029f1768c5734beab39a592b44f75a9d"
     }
    },
    "f280e146d6c54fb59f8ce36f2d1cc6a3": {
     "model_module": "@jupyter-widgets/base",
     "model_name": "LayoutModel",
     "state": {
      "_model_module": "@jupyter-widgets/base",
      "_model_module_version": "1.2.0",
      "_model_name": "LayoutModel",
      "_view_count": null,
      "_view_module": "@jupyter-widgets/base",
      "_view_module_version": "1.2.0",
      "_view_name": "LayoutView",
      "align_content": null,
      "align_items": null,
      "align_self": null,
      "border": null,
      "bottom": null,
      "display": null,
      "flex": null,
      "flex_flow": null,
      "grid_area": null,
      "grid_auto_columns": null,
      "grid_auto_flow": null,
      "grid_auto_rows": null,
      "grid_column": null,
      "grid_gap": null,
      "grid_row": null,
      "grid_template_areas": null,
      "grid_template_columns": null,
      "grid_template_rows": null,
      "height": null,
      "justify_content": null,
      "justify_items": null,
      "left": null,
      "margin": null,
      "max_height": null,
      "max_width": null,
      "min_height": null,
      "min_width": null,
      "object_fit": null,
      "object_position": null,
      "order": null,
      "overflow": null,
      "overflow_x": null,
      "overflow_y": null,
      "padding": null,
      "right": null,
      "top": null,
      "visibility": null,
      "width": null
     }
    },
    "fb66cde27d0849bba4947c024e198f7f": {
     "model_module": "@jupyter-widgets/controls",
     "model_name": "HBoxModel",
     "state": {
      "_dom_classes": [],
      "_model_module": "@jupyter-widgets/controls",
      "_model_module_version": "1.5.0",
      "_model_name": "HBoxModel",
      "_view_count": null,
      "_view_module": "@jupyter-widgets/controls",
      "_view_module_version": "1.5.0",
      "_view_name": "HBoxView",
      "box_style": "",
      "children": [
       "IPY_MODEL_b9d32ac7b88c4f4e900b160f05c016a3",
       "IPY_MODEL_b2f66cc8930240a5b74d5480377496ed"
      ],
      "layout": "IPY_MODEL_bebcff464bfc44ffa82e311a39cae7d7"
     }
    }
   }
  }
 },
 "nbformat": 4,
 "nbformat_minor": 1
}
